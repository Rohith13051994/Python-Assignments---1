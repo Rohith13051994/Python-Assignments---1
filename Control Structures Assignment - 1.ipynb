{
 "cells": [
  {
   "cell_type": "code",
   "execution_count": 1,
   "id": "a9fc37a3-bc92-4da8-bb87-939ffd763c20",
   "metadata": {},
   "outputs": [
    {
     "name": "stdout",
     "output_type": "stream",
     "text": [
      "Welcome to Assignment-1\n"
     ]
    }
   ],
   "source": [
    "print(\"Welcome to Assignment-1\")"
   ]
  },
  {
   "cell_type": "code",
   "execution_count": 9,
   "id": "ac5ff14f-c1aa-47bf-b3e5-b38843067818",
   "metadata": {},
   "outputs": [
    {
     "name": "stdout",
     "output_type": "stream",
     "text": [
      "Num1= 10\n",
      "Num2= 30\n",
      "Add= 40\n"
     ]
    }
   ],
   "source": [
    "Num1=10\n",
    "print(\"Num1=\", Num1)\n",
    "Num2=30\n",
    "print(\"Num2=\", Num2)\n",
    "Add=Num1+Num2\n",
    "print(\"Add=\", Add)"
   ]
  },
  {
   "cell_type": "code",
   "execution_count": 17,
   "id": "d1c1301a-1a0c-479e-881a-b8666516bd8e",
   "metadata": {},
   "outputs": [
    {
     "name": "stdin",
     "output_type": "stream",
     "text": [
      "Enter your weight: 34\n"
     ]
    },
    {
     "name": "stdout",
     "output_type": "stream",
     "text": [
      "Obese Class 1\n"
     ]
    }
   ],
   "source": [
    "weight = int(input(\"Enter your weight:\"))\n",
    "if(weight<=18.5):\n",
    "    print(\"Underweight\")\n",
    "elif(weight<24.9):\n",
    "    print(\"Normal Range\")\n",
    "elif(weight<29.9):\n",
    "    print(\"Overweight\")\n",
    "elif(weight<=30):\n",
    "    print(\"Obese\")\n",
    "elif(weight<34.9):\n",
    "    print(\"Obese Class 1\")\n",
    "elif(weight<=39.9):\n",
    "    print(\"Obese Class 2\")\n",
    "else:\n",
    "    print(\"Obese Class 3\")"
   ]
  },
  {
   "cell_type": "code",
   "execution_count": null,
   "id": "98ca29ea-91a3-47c1-91dd-e187245bc219",
   "metadata": {},
   "outputs": [],
   "source": []
  }
 ],
 "metadata": {
  "kernelspec": {
   "display_name": "Python 3 (ipykernel)",
   "language": "python",
   "name": "python3"
  },
  "language_info": {
   "codemirror_mode": {
    "name": "ipython",
    "version": 3
   },
   "file_extension": ".py",
   "mimetype": "text/x-python",
   "name": "python",
   "nbconvert_exporter": "python",
   "pygments_lexer": "ipython3",
   "version": "3.11.7"
  }
 },
 "nbformat": 4,
 "nbformat_minor": 5
}
